{
 "cells": [
  {
   "cell_type": "markdown",
   "id": "2dfcb2bf",
   "metadata": {},
   "source": [
    "# Project Description\n",
    "Beta Bank customers are leaving: little by little, chipping away every month. The bankers figured out it’s cheaper to save the existing customers rather than to attract new ones.\n",
    "\n",
    "\n",
    "We need to predict whether a customer will leave the bank soon. You have the data on clients’ past behavior and termination of contracts with the bank.\n",
    "\n",
    "\n",
    "Build a model with the maximum possible F1 score. To pass the project, you need an F1 score of at least 0.59. Check the F1 for the test set.\n",
    "\n",
    "\n",
    "Additionally, measure the AUC-ROC metric and compare it with the F1."
   ]
  },
  {
   "cell_type": "markdown",
   "id": "2b019618",
   "metadata": {},
   "source": [
    "# Importing libraries and functions"
   ]
  },
  {
   "cell_type": "code",
   "execution_count": 20,
   "id": "dd9aa96d",
   "metadata": {},
   "outputs": [],
   "source": [
    "import pandas as pd\n",
    "import numpy as np\n",
    "from sklearn import metrics\n",
    "from sklearn.preprocessing import LabelEncoder\n",
    "from sklearn import svm\n",
    "from sklearn.neighbors import KNeighborsClassifier\n",
    "from sklearn.tree import DecisionTreeClassifier\n",
    "from sklearn.metrics import accuracy_score\n",
    "from sklearn.model_selection import train_test_split\n",
    "from sklearn.ensemble import RandomForestClassifier\n",
    "from sklearn.linear_model import LogisticRegression\n",
    "from sklearn.metrics import mean_squared_error\n",
    "from sklearn.metrics import recall_score\n",
    "from sklearn.metrics import precision_score\n",
    "from sklearn.metrics import f1_score\n",
    "from sklearn.preprocessing import StandardScaler\n",
    "from sklearn.preprocessing import OrdinalEncoder\n",
    "from sklearn.utils import shuffle\n",
    "from sklearn.metrics import confusion_matrix\n",
    "import seaborn as sns\n",
    "import sidetable as stb\n",
    "import matplotlib.pyplot as plt\n",
    "from sklearn.metrics import f1_score\n",
    "from sklearn.metrics import roc_auc_score"
   ]
  },
  {
   "cell_type": "markdown",
   "id": "7e84ea6e",
   "metadata": {},
   "source": [
    "# A. Downloading and preparing the data\n",
    "\n",
    "## reading the csv file\n"
   ]
  },
  {
   "cell_type": "code",
   "execution_count": 7,
   "id": "b507ca8d",
   "metadata": {},
   "outputs": [
    {
     "name": "stdout",
     "output_type": "stream",
     "text": [
      "   RowNumber  CustomerId   Surname  CreditScore Geography  Gender  Age  \\\n",
      "0          1    15634602  Hargrave          619    France  Female   42   \n",
      "1          2    15647311      Hill          608     Spain  Female   41   \n",
      "2          3    15619304      Onio          502    France  Female   42   \n",
      "3          4    15701354      Boni          699    France  Female   39   \n",
      "4          5    15737888  Mitchell          850     Spain  Female   43   \n",
      "\n",
      "   Tenure    Balance  NumOfProducts  HasCrCard  IsActiveMember  \\\n",
      "0     2.0       0.00              1          1               1   \n",
      "1     1.0   83807.86              1          0               1   \n",
      "2     8.0  159660.80              3          1               0   \n",
      "3     1.0       0.00              2          0               0   \n",
      "4     2.0  125510.82              1          1               1   \n",
      "\n",
      "   EstimatedSalary  Exited  \n",
      "0        101348.88       1  \n",
      "1        112542.58       0  \n",
      "2        113931.57       1  \n",
      "3         93826.63       0  \n",
      "4         79084.10       0  \n"
     ]
    }
   ],
   "source": [
    "try:\n",
    "    \n",
    "    path='C:\\\\Users\\\\aviv\\\\Downloads\\\\Churn.csv'\n",
    "    data = pd.read_csv(path)\n",
    "    print(data.head())\n",
    "\n",
    "    \n",
    "except:\n",
    "    path = '/datasets/Churn.csv'\n",
    "    data = pd.read_csv(path)\n",
    "    print(data.head())\n",
    "    \n",
    "\n",
    "    "
   ]
  },
  {
   "cell_type": "code",
   "execution_count": 8,
   "id": "7d33ba80",
   "metadata": {},
   "outputs": [
    {
     "name": "stdout",
     "output_type": "stream",
     "text": [
      "<class 'pandas.core.frame.DataFrame'>\n",
      "RangeIndex: 10000 entries, 0 to 9999\n",
      "Data columns (total 14 columns):\n",
      " #   Column           Non-Null Count  Dtype  \n",
      "---  ------           --------------  -----  \n",
      " 0   RowNumber        10000 non-null  int64  \n",
      " 1   CustomerId       10000 non-null  int64  \n",
      " 2   Surname          10000 non-null  object \n",
      " 3   CreditScore      10000 non-null  int64  \n",
      " 4   Geography        10000 non-null  object \n",
      " 5   Gender           10000 non-null  object \n",
      " 6   Age              10000 non-null  int64  \n",
      " 7   Tenure           9091 non-null   float64\n",
      " 8   Balance          10000 non-null  float64\n",
      " 9   NumOfProducts    10000 non-null  int64  \n",
      " 10  HasCrCard        10000 non-null  int64  \n",
      " 11  IsActiveMember   10000 non-null  int64  \n",
      " 12  EstimatedSalary  10000 non-null  float64\n",
      " 13  Exited           10000 non-null  int64  \n",
      "dtypes: float64(3), int64(8), object(3)\n",
      "memory usage: 1.1+ MB\n"
     ]
    }
   ],
   "source": [
    "data.info()"
   ]
  },
  {
   "cell_type": "code",
   "execution_count": 9,
   "id": "29cffdc8",
   "metadata": {},
   "outputs": [
    {
     "data": {
      "text/html": [
       "<div>\n",
       "<style scoped>\n",
       "    .dataframe tbody tr th:only-of-type {\n",
       "        vertical-align: middle;\n",
       "    }\n",
       "\n",
       "    .dataframe tbody tr th {\n",
       "        vertical-align: top;\n",
       "    }\n",
       "\n",
       "    .dataframe thead th {\n",
       "        text-align: right;\n",
       "    }\n",
       "</style>\n",
       "<table border=\"1\" class=\"dataframe\">\n",
       "  <thead>\n",
       "    <tr style=\"text-align: right;\">\n",
       "      <th></th>\n",
       "      <th>RowNumber</th>\n",
       "      <th>CustomerId</th>\n",
       "      <th>Surname</th>\n",
       "      <th>CreditScore</th>\n",
       "      <th>Geography</th>\n",
       "      <th>Gender</th>\n",
       "      <th>Age</th>\n",
       "      <th>Tenure</th>\n",
       "      <th>Balance</th>\n",
       "      <th>NumOfProducts</th>\n",
       "      <th>HasCrCard</th>\n",
       "      <th>IsActiveMember</th>\n",
       "      <th>EstimatedSalary</th>\n",
       "      <th>Exited</th>\n",
       "    </tr>\n",
       "  </thead>\n",
       "  <tbody>\n",
       "    <tr>\n",
       "      <th>count</th>\n",
       "      <td>10000.00000</td>\n",
       "      <td>1.000000e+04</td>\n",
       "      <td>10000</td>\n",
       "      <td>10000.000000</td>\n",
       "      <td>10000</td>\n",
       "      <td>10000</td>\n",
       "      <td>10000.000000</td>\n",
       "      <td>9091.000000</td>\n",
       "      <td>10000.000000</td>\n",
       "      <td>10000.000000</td>\n",
       "      <td>10000.00000</td>\n",
       "      <td>10000.000000</td>\n",
       "      <td>10000.000000</td>\n",
       "      <td>10000.000000</td>\n",
       "    </tr>\n",
       "    <tr>\n",
       "      <th>unique</th>\n",
       "      <td>NaN</td>\n",
       "      <td>NaN</td>\n",
       "      <td>2932</td>\n",
       "      <td>NaN</td>\n",
       "      <td>3</td>\n",
       "      <td>2</td>\n",
       "      <td>NaN</td>\n",
       "      <td>NaN</td>\n",
       "      <td>NaN</td>\n",
       "      <td>NaN</td>\n",
       "      <td>NaN</td>\n",
       "      <td>NaN</td>\n",
       "      <td>NaN</td>\n",
       "      <td>NaN</td>\n",
       "    </tr>\n",
       "    <tr>\n",
       "      <th>top</th>\n",
       "      <td>NaN</td>\n",
       "      <td>NaN</td>\n",
       "      <td>Smith</td>\n",
       "      <td>NaN</td>\n",
       "      <td>France</td>\n",
       "      <td>Male</td>\n",
       "      <td>NaN</td>\n",
       "      <td>NaN</td>\n",
       "      <td>NaN</td>\n",
       "      <td>NaN</td>\n",
       "      <td>NaN</td>\n",
       "      <td>NaN</td>\n",
       "      <td>NaN</td>\n",
       "      <td>NaN</td>\n",
       "    </tr>\n",
       "    <tr>\n",
       "      <th>freq</th>\n",
       "      <td>NaN</td>\n",
       "      <td>NaN</td>\n",
       "      <td>32</td>\n",
       "      <td>NaN</td>\n",
       "      <td>5014</td>\n",
       "      <td>5457</td>\n",
       "      <td>NaN</td>\n",
       "      <td>NaN</td>\n",
       "      <td>NaN</td>\n",
       "      <td>NaN</td>\n",
       "      <td>NaN</td>\n",
       "      <td>NaN</td>\n",
       "      <td>NaN</td>\n",
       "      <td>NaN</td>\n",
       "    </tr>\n",
       "    <tr>\n",
       "      <th>mean</th>\n",
       "      <td>5000.50000</td>\n",
       "      <td>1.569094e+07</td>\n",
       "      <td>NaN</td>\n",
       "      <td>650.528800</td>\n",
       "      <td>NaN</td>\n",
       "      <td>NaN</td>\n",
       "      <td>38.921800</td>\n",
       "      <td>4.997690</td>\n",
       "      <td>76485.889288</td>\n",
       "      <td>1.530200</td>\n",
       "      <td>0.70550</td>\n",
       "      <td>0.515100</td>\n",
       "      <td>100090.239881</td>\n",
       "      <td>0.203700</td>\n",
       "    </tr>\n",
       "    <tr>\n",
       "      <th>std</th>\n",
       "      <td>2886.89568</td>\n",
       "      <td>7.193619e+04</td>\n",
       "      <td>NaN</td>\n",
       "      <td>96.653299</td>\n",
       "      <td>NaN</td>\n",
       "      <td>NaN</td>\n",
       "      <td>10.487806</td>\n",
       "      <td>2.894723</td>\n",
       "      <td>62397.405202</td>\n",
       "      <td>0.581654</td>\n",
       "      <td>0.45584</td>\n",
       "      <td>0.499797</td>\n",
       "      <td>57510.492818</td>\n",
       "      <td>0.402769</td>\n",
       "    </tr>\n",
       "    <tr>\n",
       "      <th>min</th>\n",
       "      <td>1.00000</td>\n",
       "      <td>1.556570e+07</td>\n",
       "      <td>NaN</td>\n",
       "      <td>350.000000</td>\n",
       "      <td>NaN</td>\n",
       "      <td>NaN</td>\n",
       "      <td>18.000000</td>\n",
       "      <td>0.000000</td>\n",
       "      <td>0.000000</td>\n",
       "      <td>1.000000</td>\n",
       "      <td>0.00000</td>\n",
       "      <td>0.000000</td>\n",
       "      <td>11.580000</td>\n",
       "      <td>0.000000</td>\n",
       "    </tr>\n",
       "    <tr>\n",
       "      <th>25%</th>\n",
       "      <td>2500.75000</td>\n",
       "      <td>1.562853e+07</td>\n",
       "      <td>NaN</td>\n",
       "      <td>584.000000</td>\n",
       "      <td>NaN</td>\n",
       "      <td>NaN</td>\n",
       "      <td>32.000000</td>\n",
       "      <td>2.000000</td>\n",
       "      <td>0.000000</td>\n",
       "      <td>1.000000</td>\n",
       "      <td>0.00000</td>\n",
       "      <td>0.000000</td>\n",
       "      <td>51002.110000</td>\n",
       "      <td>0.000000</td>\n",
       "    </tr>\n",
       "    <tr>\n",
       "      <th>50%</th>\n",
       "      <td>5000.50000</td>\n",
       "      <td>1.569074e+07</td>\n",
       "      <td>NaN</td>\n",
       "      <td>652.000000</td>\n",
       "      <td>NaN</td>\n",
       "      <td>NaN</td>\n",
       "      <td>37.000000</td>\n",
       "      <td>5.000000</td>\n",
       "      <td>97198.540000</td>\n",
       "      <td>1.000000</td>\n",
       "      <td>1.00000</td>\n",
       "      <td>1.000000</td>\n",
       "      <td>100193.915000</td>\n",
       "      <td>0.000000</td>\n",
       "    </tr>\n",
       "    <tr>\n",
       "      <th>75%</th>\n",
       "      <td>7500.25000</td>\n",
       "      <td>1.575323e+07</td>\n",
       "      <td>NaN</td>\n",
       "      <td>718.000000</td>\n",
       "      <td>NaN</td>\n",
       "      <td>NaN</td>\n",
       "      <td>44.000000</td>\n",
       "      <td>7.000000</td>\n",
       "      <td>127644.240000</td>\n",
       "      <td>2.000000</td>\n",
       "      <td>1.00000</td>\n",
       "      <td>1.000000</td>\n",
       "      <td>149388.247500</td>\n",
       "      <td>0.000000</td>\n",
       "    </tr>\n",
       "    <tr>\n",
       "      <th>max</th>\n",
       "      <td>10000.00000</td>\n",
       "      <td>1.581569e+07</td>\n",
       "      <td>NaN</td>\n",
       "      <td>850.000000</td>\n",
       "      <td>NaN</td>\n",
       "      <td>NaN</td>\n",
       "      <td>92.000000</td>\n",
       "      <td>10.000000</td>\n",
       "      <td>250898.090000</td>\n",
       "      <td>4.000000</td>\n",
       "      <td>1.00000</td>\n",
       "      <td>1.000000</td>\n",
       "      <td>199992.480000</td>\n",
       "      <td>1.000000</td>\n",
       "    </tr>\n",
       "  </tbody>\n",
       "</table>\n",
       "</div>"
      ],
      "text/plain": [
       "          RowNumber    CustomerId Surname   CreditScore Geography Gender  \\\n",
       "count   10000.00000  1.000000e+04   10000  10000.000000     10000  10000   \n",
       "unique          NaN           NaN    2932           NaN         3      2   \n",
       "top             NaN           NaN   Smith           NaN    France   Male   \n",
       "freq            NaN           NaN      32           NaN      5014   5457   \n",
       "mean     5000.50000  1.569094e+07     NaN    650.528800       NaN    NaN   \n",
       "std      2886.89568  7.193619e+04     NaN     96.653299       NaN    NaN   \n",
       "min         1.00000  1.556570e+07     NaN    350.000000       NaN    NaN   \n",
       "25%      2500.75000  1.562853e+07     NaN    584.000000       NaN    NaN   \n",
       "50%      5000.50000  1.569074e+07     NaN    652.000000       NaN    NaN   \n",
       "75%      7500.25000  1.575323e+07     NaN    718.000000       NaN    NaN   \n",
       "max     10000.00000  1.581569e+07     NaN    850.000000       NaN    NaN   \n",
       "\n",
       "                 Age       Tenure        Balance  NumOfProducts    HasCrCard  \\\n",
       "count   10000.000000  9091.000000   10000.000000   10000.000000  10000.00000   \n",
       "unique           NaN          NaN            NaN            NaN          NaN   \n",
       "top              NaN          NaN            NaN            NaN          NaN   \n",
       "freq             NaN          NaN            NaN            NaN          NaN   \n",
       "mean       38.921800     4.997690   76485.889288       1.530200      0.70550   \n",
       "std        10.487806     2.894723   62397.405202       0.581654      0.45584   \n",
       "min        18.000000     0.000000       0.000000       1.000000      0.00000   \n",
       "25%        32.000000     2.000000       0.000000       1.000000      0.00000   \n",
       "50%        37.000000     5.000000   97198.540000       1.000000      1.00000   \n",
       "75%        44.000000     7.000000  127644.240000       2.000000      1.00000   \n",
       "max        92.000000    10.000000  250898.090000       4.000000      1.00000   \n",
       "\n",
       "        IsActiveMember  EstimatedSalary        Exited  \n",
       "count     10000.000000     10000.000000  10000.000000  \n",
       "unique             NaN              NaN           NaN  \n",
       "top                NaN              NaN           NaN  \n",
       "freq               NaN              NaN           NaN  \n",
       "mean          0.515100    100090.239881      0.203700  \n",
       "std           0.499797     57510.492818      0.402769  \n",
       "min           0.000000        11.580000      0.000000  \n",
       "25%           0.000000     51002.110000      0.000000  \n",
       "50%           1.000000    100193.915000      0.000000  \n",
       "75%           1.000000    149388.247500      0.000000  \n",
       "max           1.000000    199992.480000      1.000000  "
      ]
     },
     "execution_count": 9,
     "metadata": {},
     "output_type": "execute_result"
    }
   ],
   "source": [
    "data.describe(include='all')"
   ]
  },
  {
   "cell_type": "markdown",
   "id": "11d83d9d",
   "metadata": {},
   "source": [
    "## examining the balance of classes"
   ]
  },
  {
   "cell_type": "code",
   "execution_count": 10,
   "id": "7dfc9872",
   "metadata": {},
   "outputs": [
    {
     "data": {
      "text/plain": [
       "0    7963\n",
       "1    2037\n",
       "Name: Exited, dtype: int64"
      ]
     },
     "execution_count": 10,
     "metadata": {},
     "output_type": "execute_result"
    }
   ],
   "source": [
    "data.Exited.value_counts()"
   ]
  },
  {
   "cell_type": "markdown",
   "id": "e01c4481",
   "metadata": {},
   "source": [
    "so we have either 1 for did exit or 0 for didn't. also looks like most people do not exit the bank. our target variable is unbalanced.\n"
   ]
  },
  {
   "cell_type": "code",
   "execution_count": 11,
   "id": "57e12b39",
   "metadata": {},
   "outputs": [
    {
     "data": {
      "text/plain": [
       "France     5014\n",
       "Germany    2509\n",
       "Spain      2477\n",
       "Name: Geography, dtype: int64"
      ]
     },
     "execution_count": 11,
     "metadata": {},
     "output_type": "execute_result"
    }
   ],
   "source": [
    "data.Geography.value_counts()"
   ]
  },
  {
   "cell_type": "markdown",
   "id": "a3f13a06",
   "metadata": {},
   "source": [
    "the geography column isn't numerical but i think we should take it into account ( get it? account? we're working with a bank? never mind.. )\n",
    "same for gender column, let's check it for balance too"
   ]
  },
  {
   "cell_type": "code",
   "execution_count": 12,
   "id": "d2e34d7d",
   "metadata": {},
   "outputs": [
    {
     "data": {
      "text/plain": [
       "Male      5457\n",
       "Female    4543\n",
       "Name: Gender, dtype: int64"
      ]
     },
     "execution_count": 12,
     "metadata": {},
     "output_type": "execute_result"
    }
   ],
   "source": [
    "data.Gender.value_counts()"
   ]
  },
  {
   "cell_type": "markdown",
   "id": "d48ca3d5",
   "metadata": {},
   "source": [
    "pretty balanced, mostly male but not by much"
   ]
  },
  {
   "cell_type": "markdown",
   "id": "51f69a92",
   "metadata": {},
   "source": [
    "# Preprocessing"
   ]
  },
  {
   "cell_type": "code",
   "execution_count": 13,
   "id": "6960e66f",
   "metadata": {},
   "outputs": [],
   "source": [
    "data.stb.missing(style=True)"
   ]
  },
  {
   "cell_type": "markdown",
   "id": "d67dc1b6",
   "metadata": {},
   "source": [
    "since we can't know exactly the missing tenure values, and it's only 10% missing, i'll drop these rows"
   ]
  },
  {
   "cell_type": "markdown",
   "id": "482138f0",
   "metadata": {},
   "source": [
    "converting floats to int type to save space"
   ]
  },
  {
   "cell_type": "code",
   "execution_count": 14,
   "id": "478abf34",
   "metadata": {
    "scrolled": false
   },
   "outputs": [
    {
     "name": "stdout",
     "output_type": "stream",
     "text": [
      "<class 'pandas.core.frame.DataFrame'>\n",
      "Int64Index: 9091 entries, 0 to 9998\n",
      "Data columns (total 14 columns):\n",
      " #   Column           Non-Null Count  Dtype \n",
      "---  ------           --------------  ----- \n",
      " 0   RowNumber        9091 non-null   int64 \n",
      " 1   CustomerId       9091 non-null   int64 \n",
      " 2   Surname          9091 non-null   object\n",
      " 3   CreditScore      9091 non-null   int64 \n",
      " 4   Geography        9091 non-null   object\n",
      " 5   Gender           9091 non-null   object\n",
      " 6   Age              9091 non-null   int64 \n",
      " 7   Tenure           9091 non-null   int64 \n",
      " 8   Balance          9091 non-null   int64 \n",
      " 9   NumOfProducts    9091 non-null   int64 \n",
      " 10  HasCrCard        9091 non-null   int64 \n",
      " 11  IsActiveMember   9091 non-null   int64 \n",
      " 12  EstimatedSalary  9091 non-null   int64 \n",
      " 13  Exited           9091 non-null   int64 \n",
      "dtypes: int64(11), object(3)\n",
      "memory usage: 1.0+ MB\n"
     ]
    }
   ],
   "source": [
    "data.drop(data[data['Tenure'].isna()].index, inplace = True)\n",
    "data = data.astype({\"Tenure\":\"int\",\"Balance\":\"int\", \"EstimatedSalary\":\"int\"})\n",
    "data.info()"
   ]
  },
  {
   "cell_type": "markdown",
   "id": "f9b2d995",
   "metadata": {},
   "source": [
    "let's drop all the other columns which don't give us any value."
   ]
  },
  {
   "cell_type": "code",
   "execution_count": 15,
   "id": "b20c78b6",
   "metadata": {},
   "outputs": [],
   "source": [
    "data.drop([\"RowNumber\",\"CustomerId\",\"Surname\"], axis=1, inplace = True)\n",
    "#data.drop(\"CustomerId\", axis=1, inplace = True)\n",
    "#data.drop(\"Surname\", axis=1, inplace = True)"
   ]
  },
  {
   "cell_type": "code",
   "execution_count": 16,
   "id": "6e0a0e07",
   "metadata": {
    "scrolled": true
   },
   "outputs": [
    {
     "data": {
      "text/html": [
       "<div>\n",
       "<style scoped>\n",
       "    .dataframe tbody tr th:only-of-type {\n",
       "        vertical-align: middle;\n",
       "    }\n",
       "\n",
       "    .dataframe tbody tr th {\n",
       "        vertical-align: top;\n",
       "    }\n",
       "\n",
       "    .dataframe thead th {\n",
       "        text-align: right;\n",
       "    }\n",
       "</style>\n",
       "<table border=\"1\" class=\"dataframe\">\n",
       "  <thead>\n",
       "    <tr style=\"text-align: right;\">\n",
       "      <th></th>\n",
       "      <th>CreditScore</th>\n",
       "      <th>Geography</th>\n",
       "      <th>Gender</th>\n",
       "      <th>Age</th>\n",
       "      <th>Tenure</th>\n",
       "      <th>Balance</th>\n",
       "      <th>NumOfProducts</th>\n",
       "      <th>HasCrCard</th>\n",
       "      <th>IsActiveMember</th>\n",
       "      <th>EstimatedSalary</th>\n",
       "      <th>Exited</th>\n",
       "    </tr>\n",
       "  </thead>\n",
       "  <tbody>\n",
       "    <tr>\n",
       "      <th>0</th>\n",
       "      <td>619</td>\n",
       "      <td>France</td>\n",
       "      <td>Female</td>\n",
       "      <td>42</td>\n",
       "      <td>2</td>\n",
       "      <td>0</td>\n",
       "      <td>1</td>\n",
       "      <td>1</td>\n",
       "      <td>1</td>\n",
       "      <td>101348</td>\n",
       "      <td>1</td>\n",
       "    </tr>\n",
       "    <tr>\n",
       "      <th>1</th>\n",
       "      <td>608</td>\n",
       "      <td>Spain</td>\n",
       "      <td>Female</td>\n",
       "      <td>41</td>\n",
       "      <td>1</td>\n",
       "      <td>83807</td>\n",
       "      <td>1</td>\n",
       "      <td>0</td>\n",
       "      <td>1</td>\n",
       "      <td>112542</td>\n",
       "      <td>0</td>\n",
       "    </tr>\n",
       "    <tr>\n",
       "      <th>2</th>\n",
       "      <td>502</td>\n",
       "      <td>France</td>\n",
       "      <td>Female</td>\n",
       "      <td>42</td>\n",
       "      <td>8</td>\n",
       "      <td>159660</td>\n",
       "      <td>3</td>\n",
       "      <td>1</td>\n",
       "      <td>0</td>\n",
       "      <td>113931</td>\n",
       "      <td>1</td>\n",
       "    </tr>\n",
       "    <tr>\n",
       "      <th>3</th>\n",
       "      <td>699</td>\n",
       "      <td>France</td>\n",
       "      <td>Female</td>\n",
       "      <td>39</td>\n",
       "      <td>1</td>\n",
       "      <td>0</td>\n",
       "      <td>2</td>\n",
       "      <td>0</td>\n",
       "      <td>0</td>\n",
       "      <td>93826</td>\n",
       "      <td>0</td>\n",
       "    </tr>\n",
       "    <tr>\n",
       "      <th>4</th>\n",
       "      <td>850</td>\n",
       "      <td>Spain</td>\n",
       "      <td>Female</td>\n",
       "      <td>43</td>\n",
       "      <td>2</td>\n",
       "      <td>125510</td>\n",
       "      <td>1</td>\n",
       "      <td>1</td>\n",
       "      <td>1</td>\n",
       "      <td>79084</td>\n",
       "      <td>0</td>\n",
       "    </tr>\n",
       "  </tbody>\n",
       "</table>\n",
       "</div>"
      ],
      "text/plain": [
       "   CreditScore Geography  Gender  Age  Tenure  Balance  NumOfProducts  \\\n",
       "0          619    France  Female   42       2        0              1   \n",
       "1          608     Spain  Female   41       1    83807              1   \n",
       "2          502    France  Female   42       8   159660              3   \n",
       "3          699    France  Female   39       1        0              2   \n",
       "4          850     Spain  Female   43       2   125510              1   \n",
       "\n",
       "   HasCrCard  IsActiveMember  EstimatedSalary  Exited  \n",
       "0          1               1           101348       1  \n",
       "1          0               1           112542       0  \n",
       "2          1               0           113931       1  \n",
       "3          0               0            93826       0  \n",
       "4          1               1            79084       0  "
      ]
     },
     "execution_count": 16,
     "metadata": {},
     "output_type": "execute_result"
    }
   ],
   "source": [
    "data.head()"
   ]
  },
  {
   "cell_type": "markdown",
   "id": "435348d2",
   "metadata": {},
   "source": [
    "## one-hot encoding the categorical features and dropping the first column to avoid the dummy trap"
   ]
  },
  {
   "cell_type": "code",
   "execution_count": 17,
   "id": "e4fa0062",
   "metadata": {},
   "outputs": [
    {
     "name": "stdout",
     "output_type": "stream",
     "text": [
      "Index(['CreditScore', 'Age', 'Tenure', 'Balance', 'NumOfProducts', 'HasCrCard',\n",
      "       'IsActiveMember', 'EstimatedSalary', 'Exited', 'Geography_Germany',\n",
      "       'Geography_Spain', 'Gender_Male'],\n",
      "      dtype='object')\n"
     ]
    }
   ],
   "source": [
    "data_ohe = pd.get_dummies(data, drop_first=True)\n",
    "print(data_ohe.columns)"
   ]
  },
  {
   "cell_type": "markdown",
   "id": "8ae00710",
   "metadata": {},
   "source": [
    "# Data splitting to sets"
   ]
  },
  {
   "cell_type": "markdown",
   "id": "96a74e28",
   "metadata": {},
   "source": [
    "splitting the data to training, validation and test sets, one hot encoded:"
   ]
  },
  {
   "cell_type": "code",
   "execution_count": 22,
   "id": "59421bd9",
   "metadata": {},
   "outputs": [
    {
     "name": "stdout",
     "output_type": "stream",
     "text": [
      "(5454, 11)\n",
      "(1818, 11)\n"
     ]
    },
    {
     "name": "stderr",
     "output_type": "stream",
     "text": [
      "/tmp/ipykernel_31/3285783937.py:16: SettingWithCopyWarning: \n",
      "A value is trying to be set on a copy of a slice from a DataFrame.\n",
      "Try using .loc[row_indexer,col_indexer] = value instead\n",
      "\n",
      "See the caveats in the documentation: https://pandas.pydata.org/pandas-docs/stable/user_guide/indexing.html#returning-a-view-versus-a-copy\n",
      "  features_train_ohe[numeric] = scaler.transform(features_train_ohe[numeric])\n",
      "/opt/conda/lib/python3.9/site-packages/pandas/core/indexing.py:1738: SettingWithCopyWarning: \n",
      "A value is trying to be set on a copy of a slice from a DataFrame.\n",
      "Try using .loc[row_indexer,col_indexer] = value instead\n",
      "\n",
      "See the caveats in the documentation: https://pandas.pydata.org/pandas-docs/stable/user_guide/indexing.html#returning-a-view-versus-a-copy\n",
      "  self._setitem_single_column(loc, value[:, i].tolist(), pi)\n"
     ]
    },
    {
     "data": {
      "text/html": [
       "<div>\n",
       "<style scoped>\n",
       "    .dataframe tbody tr th:only-of-type {\n",
       "        vertical-align: middle;\n",
       "    }\n",
       "\n",
       "    .dataframe tbody tr th {\n",
       "        vertical-align: top;\n",
       "    }\n",
       "\n",
       "    .dataframe thead th {\n",
       "        text-align: right;\n",
       "    }\n",
       "</style>\n",
       "<table border=\"1\" class=\"dataframe\">\n",
       "  <thead>\n",
       "    <tr style=\"text-align: right;\">\n",
       "      <th></th>\n",
       "      <th>CreditScore</th>\n",
       "      <th>Age</th>\n",
       "      <th>Tenure</th>\n",
       "      <th>Balance</th>\n",
       "      <th>NumOfProducts</th>\n",
       "      <th>HasCrCard</th>\n",
       "      <th>IsActiveMember</th>\n",
       "      <th>EstimatedSalary</th>\n",
       "      <th>Geography_Germany</th>\n",
       "      <th>Geography_Spain</th>\n",
       "      <th>Gender_Male</th>\n",
       "    </tr>\n",
       "  </thead>\n",
       "  <tbody>\n",
       "    <tr>\n",
       "      <th>9723</th>\n",
       "      <td>-1.292898</td>\n",
       "      <td>-0.660843</td>\n",
       "      <td>0.686341</td>\n",
       "      <td>0.786642</td>\n",
       "      <td>1</td>\n",
       "      <td>0</td>\n",
       "      <td>0</td>\n",
       "      <td>-0.223547</td>\n",
       "      <td>0</td>\n",
       "      <td>0</td>\n",
       "      <td>1</td>\n",
       "    </tr>\n",
       "    <tr>\n",
       "      <th>1224</th>\n",
       "      <td>-1.563714</td>\n",
       "      <td>0.778434</td>\n",
       "      <td>1.034232</td>\n",
       "      <td>0.833801</td>\n",
       "      <td>1</td>\n",
       "      <td>1</td>\n",
       "      <td>0</td>\n",
       "      <td>1.383027</td>\n",
       "      <td>0</td>\n",
       "      <td>1</td>\n",
       "      <td>0</td>\n",
       "    </tr>\n",
       "    <tr>\n",
       "      <th>8377</th>\n",
       "      <td>1.581914</td>\n",
       "      <td>0.106771</td>\n",
       "      <td>-0.357331</td>\n",
       "      <td>-1.222966</td>\n",
       "      <td>2</td>\n",
       "      <td>1</td>\n",
       "      <td>1</td>\n",
       "      <td>-0.308324</td>\n",
       "      <td>0</td>\n",
       "      <td>1</td>\n",
       "      <td>1</td>\n",
       "    </tr>\n",
       "    <tr>\n",
       "      <th>8014</th>\n",
       "      <td>0.842379</td>\n",
       "      <td>0.010820</td>\n",
       "      <td>-1.053112</td>\n",
       "      <td>0.807068</td>\n",
       "      <td>1</td>\n",
       "      <td>1</td>\n",
       "      <td>1</td>\n",
       "      <td>-0.430988</td>\n",
       "      <td>0</td>\n",
       "      <td>1</td>\n",
       "      <td>0</td>\n",
       "    </tr>\n",
       "    <tr>\n",
       "      <th>2491</th>\n",
       "      <td>-0.397123</td>\n",
       "      <td>-1.236554</td>\n",
       "      <td>-0.357331</td>\n",
       "      <td>-1.222966</td>\n",
       "      <td>2</td>\n",
       "      <td>1</td>\n",
       "      <td>1</td>\n",
       "      <td>1.392638</td>\n",
       "      <td>0</td>\n",
       "      <td>1</td>\n",
       "      <td>0</td>\n",
       "    </tr>\n",
       "  </tbody>\n",
       "</table>\n",
       "</div>"
      ],
      "text/plain": [
       "      CreditScore       Age    Tenure   Balance  NumOfProducts  HasCrCard  \\\n",
       "9723    -1.292898 -0.660843  0.686341  0.786642              1          0   \n",
       "1224    -1.563714  0.778434  1.034232  0.833801              1          1   \n",
       "8377     1.581914  0.106771 -0.357331 -1.222966              2          1   \n",
       "8014     0.842379  0.010820 -1.053112  0.807068              1          1   \n",
       "2491    -0.397123 -1.236554 -0.357331 -1.222966              2          1   \n",
       "\n",
       "      IsActiveMember  EstimatedSalary  Geography_Germany  Geography_Spain  \\\n",
       "9723               0        -0.223547                  0                0   \n",
       "1224               0         1.383027                  0                1   \n",
       "8377               1        -0.308324                  0                1   \n",
       "8014               1        -0.430988                  0                1   \n",
       "2491               1         1.392638                  0                1   \n",
       "\n",
       "      Gender_Male  \n",
       "9723            1  \n",
       "1224            0  \n",
       "8377            1  \n",
       "8014            0  \n",
       "2491            0  "
      ]
     },
     "execution_count": 22,
     "metadata": {},
     "output_type": "execute_result"
    }
   ],
   "source": [
    "features_ohe = data_ohe.drop(['Exited'], axis=1)\n",
    "target_ohe = data_ohe['Exited']\n",
    "features_train_ohe, features_valid_ohe, target_train_ohe, target_valid_ohe = train_test_split(\n",
    "    features_ohe, target_ohe, test_size=0.4, random_state=12345, stratify = target_ohe)\n",
    "features_valid_ohe, features_test_ohe, target_valid_ohe, target_test_ohe = train_test_split(features_valid_ohe, target_valid_ohe, test_size=0.5,\n",
    "                                                                           random_state=33)\n",
    "\n",
    "\n",
    "\n",
    "print(features_train_ohe.shape)\n",
    "print(features_valid_ohe.shape)\n",
    "numeric = ['CreditScore', 'Age', 'Tenure', 'Balance','EstimatedSalary']\n",
    "scaler = StandardScaler()\n",
    "scaler.fit(features_train_ohe[numeric])\n",
    "\n",
    "features_train_ohe[numeric] = scaler.transform(features_train_ohe[numeric])\n",
    "features_valid_ohe[numeric] = scaler.transform(features_valid_ohe[numeric])\n",
    "features_test_ohe[numeric] = scaler.transform(features_test_ohe[numeric])\n",
    "\n",
    "features_train_ohe.head()"
   ]
  },
  {
   "cell_type": "markdown",
   "id": "c69db134",
   "metadata": {},
   "source": [
    "let's explore the data for relationships"
   ]
  },
  {
   "cell_type": "markdown",
   "id": "69dcff94",
   "metadata": {},
   "source": [
    "# Exploratory data analysis\n",
    "## histograms"
   ]
  },
  {
   "cell_type": "code",
   "execution_count": 345,
   "id": "c94b6e9c",
   "metadata": {
    "scrolled": true
   },
   "outputs": [
    {
     "data": {
      "image/png": "[encoded data removed]",
      "text/plain": [
       "<Figure size 1440x1080 with 9 Axes>"
      ]
     },
     "metadata": {
      "needs_background": "light"
     },
     "output_type": "display_data"
    }
   ],
   "source": [
    "data.hist(edgecolor='black', linewidth=1.2, figsize=(20,15));"
   ]
  },
  {
   "cell_type": "markdown",
   "id": "67df988e",
   "metadata": {},
   "source": [
    "## violin plots"
   ]
  },
  {
   "cell_type": "code",
   "execution_count": 346,
   "id": "bbc02dbb",
   "metadata": {},
   "outputs": [
    {
     "data": {
      "image/png": "[encoded data removed]",
      "text/plain": [
       "<Figure size 1080x504 with 1 Axes>"
      ]
     },
     "metadata": {
      "needs_background": "light"
     },
     "output_type": "display_data"
    },
    {
     "data": {
      "image/png": "[encoded data removed]",
      "text/plain": [
       "<Figure size 1080x504 with 1 Axes>"
      ]
     },
     "metadata": {
      "needs_background": "light"
     },
     "output_type": "display_data"
    },
    {
     "data": {
      "image/png": "[encoded data removed]",
      "text/plain": [
       "<Figure size 1080x504 with 1 Axes>"
      ]
     },
     "metadata": {
      "needs_background": "light"
     },
     "output_type": "display_data"
    },
    {
     "data": {
      "image/png": "[encoded data removed]",
      "text/plain": [
       "<Figure size 1080x504 with 1 Axes>"
      ]
     },
     "metadata": {
      "needs_background": "light"
     },
     "output_type": "display_data"
    },
    {
     "data": {
      "image/png": "[encoded data removed]",
      "text/plain": [
       "<Figure size 1080x504 with 1 Axes>"
      ]
     },
     "metadata": {
      "needs_background": "light"
     },
     "output_type": "display_data"
    },
    {
     "data": {
      "image/png": "[encoded data removed]",
      "text/plain": [
       "<Figure size 1080x504 with 1 Axes>"
      ]
     },
     "metadata": {
      "needs_background": "light"
     },
     "output_type": "display_data"
    },
    {
     "data": {
      "image/png": "[encoded data removed]",
      "text/plain": [
       "<Figure size 1080x504 with 1 Axes>"
      ]
     },
     "metadata": {
      "needs_background": "light"
     },
     "output_type": "display_data"
    },
    {
     "data": {
      "image/png": "[encoded data removed]",
      "text/plain": [
       "<Figure size 1080x504 with 1 Axes>"
      ]
     },
     "metadata": {
      "needs_background": "light"
     },
     "output_type": "display_data"
    },
    {
     "data": {
      "image/png": "[encoded data removed]",
      "text/plain": [
       "<Figure size 1080x504 with 1 Axes>"
      ]
     },
     "metadata": {
      "needs_background": "light"
     },
     "output_type": "display_data"
    },
    {
     "data": {
      "image/png": "[encoded data removed]",
      "text/plain": [
       "<Figure size 1080x504 with 1 Axes>"
      ]
     },
     "metadata": {
      "needs_background": "light"
     },
     "output_type": "display_data"
    },
    {
     "data": {
      "image/png": "[encoded data removed]",
      "text/plain": [
       "<Figure size 1080x504 with 1 Axes>"
      ]
     },
     "metadata": {
      "needs_background": "light"
     },
     "output_type": "display_data"
    }
   ],
   "source": [
    "for column in data.columns:\n",
    "    plt.figure(figsize=(15,7))\n",
    "    plt.subplot(2,2,1)\n",
    "    sns.violinplot(x='Exited', y=column, data=data);"
   ]
  },
  {
   "cell_type": "markdown",
   "id": "173b273d",
   "metadata": {},
   "source": [
    "if i had to guess by these graphs, i'd say the Age, Balance, and NumOfProducts affect the exited column the most."
   ]
  },
  {
   "cell_type": "markdown",
   "id": "e5db9e6f",
   "metadata": {},
   "source": [
    "## correlation heatmap"
   ]
  },
  {
   "cell_type": "code",
   "execution_count": 347,
   "id": "2ab165fb",
   "metadata": {},
   "outputs": [
    {
     "data": {
      "image/png": "[encoded data removed]",
      "text/plain": [
       "<Figure size 1080x360 with 2 Axes>"
      ]
     },
     "metadata": {
      "needs_background": "light"
     },
     "output_type": "display_data"
    }
   ],
   "source": [
    "plt.figure(figsize=(15,5))\n",
    "ax = sns.heatmap(data.corr(), annot=True)"
   ]
  },
  {
   "cell_type": "markdown",
   "id": "021b90a0",
   "metadata": {},
   "source": [
    "according to the heatmap of the correlation matrix, top 3 are Age, CreditScore, and IsActiveMember. runner up is balance.\n",
    "so that could mean these are what affect exit percentage the most."
   ]
  },
  {
   "cell_type": "markdown",
   "id": "09fc0777",
   "metadata": {},
   "source": [
    "# Train the model without taking into account the imbalance."
   ]
  },
  {
   "cell_type": "markdown",
   "id": "ce302233",
   "metadata": {},
   "source": [
    "## Decision Tree"
   ]
  },
  {
   "cell_type": "code",
   "execution_count": 23,
   "id": "1cb2c3e6",
   "metadata": {},
   "outputs": [
    {
     "name": "stdout",
     "output_type": "stream",
     "text": [
      "0.4788732394366197\n"
     ]
    }
   ],
   "source": [
    "\n",
    "model = DecisionTreeClassifier(random_state=12345)\n",
    "model.fit(features_train_ohe, target_train_ohe)\n",
    "predicted_valid = model.predict(features_valid_ohe)\n",
    "\n",
    "\n",
    "print(f1_score(target_valid_ohe, predicted_valid))"
   ]
  },
  {
   "cell_type": "markdown",
   "id": "6003cd13",
   "metadata": {},
   "source": [
    "let's try tuning the hyperparameters"
   ]
  },
  {
   "cell_type": "code",
   "execution_count": 24,
   "id": "e1993c60",
   "metadata": {},
   "outputs": [
    {
     "name": "stdout",
     "output_type": "stream",
     "text": [
      "max_depth = 1 : 0.0\n",
      "max_depth = 2 : 0.4938704028021015\n",
      "max_depth = 3 : 0.4964539007092199\n",
      "max_depth = 4 : 0.49056603773584917\n",
      "max_depth = 5 : 0.5418894830659536\n",
      "max_depth = 6 : 0.5474060822898033\n",
      "max_depth = 7 : 0.56195462478185\n",
      "max_depth = 8 : 0.5388601036269429\n",
      "max_depth = 9 : 0.5337837837837839\n",
      "max_depth = 10 : 0.5133333333333334\n",
      "max_depth = 11 : 0.5121951219512195\n",
      "max_depth = 12 : 0.49689440993788814\n",
      "max_depth = 13 : 0.4926253687315634\n"
     ]
    }
   ],
   "source": [
    "for depth in range(1,14):\n",
    "    model = DecisionTreeClassifier(random_state=12345, max_depth=depth)\n",
    "    model.fit(features_train_ohe,target_train_ohe)\n",
    "    predicted_valid = model.predict(features_valid_ohe)\n",
    "    result = f1_score(target_valid_ohe, predicted_valid)\n",
    "    print(f'max_depth = {depth} : {result}')"
   ]
  },
  {
   "cell_type": "code",
   "execution_count": 29,
   "id": "71784632",
   "metadata": {},
   "outputs": [
    {
     "name": "stdout",
     "output_type": "stream",
     "text": [
      " auc-roc is 0.8397405769479859\n"
     ]
    }
   ],
   "source": [
    "model = DecisionTreeClassifier(random_state=12345, max_depth=7)\n",
    "model.fit(features_train_ohe,target_train_ohe)\n",
    "probabilities_test = model.predict_proba(features_test_ohe)\n",
    "probabilities_one_test = probabilities_test[:, 1]\n",
    "\n",
    "auc_roc = roc_auc_score(target_test_ohe, probabilities_one_test)\n",
    "\n",
    "print(f' auc-roc is {auc_roc}')"
   ]
  },
  {
   "cell_type": "markdown",
   "id": "f0d1e923",
   "metadata": {},
   "source": [
    "we got a low f1 score. we're trying to get 0.59, let's try other models"
   ]
  },
  {
   "cell_type": "markdown",
   "id": "c6e8c30a",
   "metadata": {},
   "source": [
    "## Random Forest"
   ]
  },
  {
   "cell_type": "code",
   "execution_count": 31,
   "id": "11d53ece",
   "metadata": {},
   "outputs": [
    {
     "name": "stdout",
     "output_type": "stream",
     "text": [
      "f1 score of the best model on the validation set (n_estimators = 7): 0.5492063492063491\n"
     ]
    }
   ],
   "source": [
    "best_score = 0\n",
    "best_est = 0\n",
    "for est in range(1, 11): \n",
    "    model = RandomForestClassifier(random_state=12345, n_estimators=est) # set number of trees\n",
    "    model.fit(features_train_ohe,target_train_ohe) # train model on training set\n",
    "    predicted_valid = model.predict(features_valid_ohe) # get the model's predictions\n",
    "    score = f1_score(target_valid_ohe, predicted_valid) # calculate f1 score on validation set\n",
    "    if score > best_score:\n",
    "        best_score = score # save best f1 score on validation set\n",
    "        best_est = est # save number of estimators corresponding to best f1 score\n",
    "\n",
    "print(\"f1 score of the best model on the validation set (n_estimators = {}): {}\".format(best_est, best_score))"
   ]
  },
  {
   "cell_type": "code",
   "execution_count": 32,
   "id": "e0001b21",
   "metadata": {},
   "outputs": [
    {
     "name": "stdout",
     "output_type": "stream",
     "text": [
      " auc-roc is 0.8312667690542717\n"
     ]
    }
   ],
   "source": [
    "model = RandomForestClassifier(random_state=12345, n_estimators=9)\n",
    "model.fit(features_train_ohe,target_train_ohe)\n",
    "probabilities_test = model.predict_proba(features_test_ohe)\n",
    "probabilities_one_test = probabilities_test[:, 1]\n",
    "\n",
    "auc_roc = roc_auc_score(target_test_ohe, probabilities_one_test)\n",
    "\n",
    "print(f' auc-roc is {auc_roc}')"
   ]
  },
  {
   "cell_type": "markdown",
   "id": "3f9e120a",
   "metadata": {},
   "source": [
    "## Logistic Regression"
   ]
  },
  {
   "cell_type": "code",
   "execution_count": 33,
   "id": "44e7283c",
   "metadata": {},
   "outputs": [
    {
     "name": "stdout",
     "output_type": "stream",
     "text": [
      "F1: 0.33466135458167334\n"
     ]
    }
   ],
   "source": [
    "model = LogisticRegression(random_state=12345, solver='lbfgs')\n",
    "model.fit(features_train_ohe, target_train_ohe)\n",
    "predicted_valid = model.predict(features_valid_ohe)\n",
    "print(\"F1:\", f1_score(target_valid_ohe, predicted_valid))"
   ]
  },
  {
   "cell_type": "code",
   "execution_count": 34,
   "id": "c4b9cee4",
   "metadata": {},
   "outputs": [
    {
     "name": "stdout",
     "output_type": "stream",
     "text": [
      " auc-roc is 0.7866199137723664\n"
     ]
    }
   ],
   "source": [
    "model.fit(features_train_ohe,target_train_ohe)\n",
    "probabilities_test = model.predict_proba(features_test_ohe)\n",
    "probabilities_one_test = probabilities_test[:, 1]\n",
    "\n",
    "auc_roc = roc_auc_score(target_test_ohe, probabilities_one_test)\n",
    "\n",
    "print(f' auc-roc is {auc_roc}')"
   ]
  },
  {
   "cell_type": "markdown",
   "id": "494074d7",
   "metadata": {},
   "source": [
    "so our best try was \n",
    "tree classifer with 0.56 f1 score, let's try balancing the classes as well."
   ]
  },
  {
   "cell_type": "markdown",
   "id": "85118b4e",
   "metadata": {},
   "source": [
    "# improving the quality of the model:"
   ]
  },
  {
   "cell_type": "markdown",
   "id": "edef5d6a",
   "metadata": {},
   "source": [
    "## changing the class_weight parameter"
   ]
  },
  {
   "cell_type": "markdown",
   "id": "213a04bb",
   "metadata": {},
   "source": [
    "### Decision Tree"
   ]
  },
  {
   "cell_type": "code",
   "execution_count": 35,
   "id": "574ba312",
   "metadata": {},
   "outputs": [
    {
     "name": "stdout",
     "output_type": "stream",
     "text": [
      "max_depth = 1 : 0.4973544973544974\n",
      "max_depth = 2 : 0.5165289256198347\n",
      "max_depth = 3 : 0.5165289256198347\n",
      "max_depth = 4 : 0.54341164453524\n",
      "max_depth = 5 : 0.532520325203252\n",
      "max_depth = 6 : 0.5508735868448098\n",
      "max_depth = 7 : 0.5333333333333334\n",
      "max_depth = 8 : 0.5541899441340783\n",
      "max_depth = 9 : 0.5382882882882882\n",
      "max_depth = 10 : 0.5325842696629213\n",
      "max_depth = 11 : 0.5306122448979592\n",
      "max_depth = 12 : 0.5123762376237624\n",
      "max_depth = 13 : 0.5012468827930174\n"
     ]
    }
   ],
   "source": [
    "for depth in range(1,14):\n",
    "    model = DecisionTreeClassifier(random_state=12345, max_depth=depth, class_weight = 'balanced')\n",
    "    model.fit(features_train_ohe,target_train_ohe)\n",
    "    predicted_valid = model.predict(features_valid_ohe) \n",
    "    result = f1_score(target_valid_ohe, predicted_valid)\n",
    "    print(f'max_depth = {depth} : {result}')"
   ]
  },
  {
   "cell_type": "markdown",
   "id": "1a6d4fc6",
   "metadata": {},
   "source": [
    "still only 0.55 f1-score"
   ]
  },
  {
   "cell_type": "code",
   "execution_count": 36,
   "id": "45506724",
   "metadata": {},
   "outputs": [
    {
     "name": "stdout",
     "output_type": "stream",
     "text": [
      " auc-roc is 0.8448457709601612\n"
     ]
    }
   ],
   "source": [
    "model = DecisionTreeClassifier(random_state=12345, max_depth=6, class_weight = 'balanced')\n",
    "model.fit(features_train_ohe,target_train_ohe)\n",
    "probabilities_test = model.predict_proba(features_test_ohe)\n",
    "probabilities_one_test = probabilities_test[:, 1]\n",
    "\n",
    "auc_roc = roc_auc_score(target_test_ohe, probabilities_one_test)\n",
    "\n",
    "print(f' auc-roc is {auc_roc}')"
   ]
  },
  {
   "cell_type": "markdown",
   "id": "69abf1e0",
   "metadata": {},
   "source": [
    "### Random Forest"
   ]
  },
  {
   "cell_type": "code",
   "execution_count": 38,
   "id": "140f190b",
   "metadata": {},
   "outputs": [
    {
     "name": "stdout",
     "output_type": "stream",
     "text": [
      "f1 score of the best model on the validation set (n_estimators = 9): 0.5196078431372549\n"
     ]
    }
   ],
   "source": [
    "best_score = 0\n",
    "best_est = 0\n",
    "for est in range(1, 11): \n",
    "    model = RandomForestClassifier(random_state=12345, n_estimators=est, class_weight='balanced') \n",
    "    model.fit(features_train_ohe,target_train_ohe) \n",
    "    predicted_valid = model.predict(features_valid_ohe)\n",
    "    score = f1_score(target_valid_ohe, predicted_valid)\n",
    "    if score > best_score:\n",
    "        best_score = score \n",
    "        best_est = est \n",
    "\n",
    "print(\"f1 score of the best model on the validation set (n_estimators = {}): {}\".format(best_est, best_score))"
   ]
  },
  {
   "cell_type": "code",
   "execution_count": 39,
   "id": "3586ad5e",
   "metadata": {},
   "outputs": [
    {
     "name": "stdout",
     "output_type": "stream",
     "text": [
      " auc-roc is 0.8363109005791685\n"
     ]
    }
   ],
   "source": [
    "model = RandomForestClassifier(random_state=12345, n_estimators=9, class_weight='balanced') \n",
    "model.fit(features_train_ohe,target_train_ohe)\n",
    "probabilities_test = model.predict_proba(features_test_ohe)\n",
    "probabilities_one_test = probabilities_test[:, 1]\n",
    "\n",
    "auc_roc = roc_auc_score(target_test_ohe, probabilities_one_test)\n",
    "\n",
    "print(f' auc-roc is {auc_roc}')"
   ]
  },
  {
   "cell_type": "markdown",
   "id": "7f07cd55",
   "metadata": {},
   "source": [
    "### Logisitic Regression"
   ]
  },
  {
   "cell_type": "code",
   "execution_count": 40,
   "id": "19a5d849",
   "metadata": {},
   "outputs": [
    {
     "name": "stdout",
     "output_type": "stream",
     "text": [
      "F1: 0.5100671140939598\n"
     ]
    }
   ],
   "source": [
    "model = LogisticRegression(random_state=12345, solver='liblinear', class_weight='balanced')\n",
    "model.fit(features_train_ohe, target_train_ohe)\n",
    "predicted_valid = model.predict(features_valid_ohe)\n",
    "print('F1:', f1_score(target_valid_ohe, predicted_valid))"
   ]
  },
  {
   "cell_type": "code",
   "execution_count": 41,
   "id": "30508f17",
   "metadata": {},
   "outputs": [
    {
     "name": "stdout",
     "output_type": "stream",
     "text": [
      " auc-roc is 0.7880743111966397\n"
     ]
    }
   ],
   "source": [
    "model.fit(features_train_ohe,target_train_ohe)\n",
    "probabilities_test = model.predict_proba(features_test_ohe)\n",
    "probabilities_one_test = probabilities_test[:, 1]\n",
    "\n",
    "auc_roc = roc_auc_score(target_test_ohe, probabilities_one_test)\n",
    "\n",
    "print(f' auc-roc is {auc_roc}')"
   ]
  },
  {
   "cell_type": "markdown",
   "id": "6ca95977",
   "metadata": {},
   "source": [
    "adjusting the weight class parameter didn't help."
   ]
  },
  {
   "cell_type": "markdown",
   "id": "772cb4d9",
   "metadata": {},
   "source": [
    "## Upsampling"
   ]
  },
  {
   "cell_type": "markdown",
   "id": "518ec8cf",
   "metadata": {},
   "source": [
    "let's upsample"
   ]
  },
  {
   "cell_type": "code",
   "execution_count": 81,
   "id": "843d5a87",
   "metadata": {},
   "outputs": [
    {
     "data": {
      "text/plain": [
       "1    4448\n",
       "0    4342\n",
       "Name: Exited, dtype: int64"
      ]
     },
     "execution_count": 81,
     "metadata": {},
     "output_type": "execute_result"
    }
   ],
   "source": [
    "def upsample(features, target, repeat):\n",
    "    features_zeros = features[target == 0]\n",
    "    features_ones = features[target == 1]\n",
    "    target_zeros = target[target == 0]\n",
    "    target_ones = target[target == 1]\n",
    "\n",
    "    features_upsampled = pd.concat([features_zeros] + [features_ones] * repeat)\n",
    "    target_upsampled = pd.concat([target_zeros] + [target_ones] * repeat)\n",
    "\n",
    "    features_upsampled, target_upsampled = shuffle(\n",
    "        features_upsampled, target_upsampled, random_state=12345\n",
    "    )\n",
    "\n",
    "    return features_upsampled, target_upsampled\n",
    "\n",
    "\n",
    "features_upsampled, target_upsampled = upsample(\n",
    "    features_train_ohe, target_train_ohe, 4\n",
    ")\n",
    "\n",
    "target_upsampled.value_counts()"
   ]
  },
  {
   "cell_type": "code",
   "execution_count": 82,
   "id": "19a78c96",
   "metadata": {},
   "outputs": [
    {
     "name": "stdout",
     "output_type": "stream",
     "text": [
      "F1: 0.5075471698113208\n",
      "auc-roc: 0.7880965157374682\n"
     ]
    }
   ],
   "source": [
    "model = LogisticRegression(random_state=12345, solver='liblinear')\n",
    "model.fit(features_upsampled, target_upsampled)\n",
    "predicted_valid = model.predict(features_valid_ohe)\n",
    "\n",
    "\n",
    "print('F1:', f1_score(target_valid_ohe, predicted_valid))\n",
    "\n",
    "probabilities_test = model.predict_proba(features_test_ohe)\n",
    "probabilities_one_test = probabilities_test[:, 1]\n",
    "\n",
    "auc_roc = roc_auc_score(target_test_ohe, probabilities_one_test)\n",
    "\n",
    "print(f'auc-roc: {auc_roc}')"
   ]
  },
  {
   "cell_type": "code",
   "execution_count": 83,
   "id": "d957e02c",
   "metadata": {},
   "outputs": [
    {
     "name": "stdout",
     "output_type": "stream",
     "text": [
      "f1 score of the best model on the validation set (n_estimators = 5): 0.5623268698060943\n"
     ]
    }
   ],
   "source": [
    "best_score = 0\n",
    "best_est = 0\n",
    "for est in range(1, 11):\n",
    "    model = RandomForestClassifier(random_state=54321, n_estimators=est) \n",
    "    model.fit(features_upsampled,target_upsampled)\n",
    "    predicted_valid = model.predict(features_valid_ohe)\n",
    "    score = f1_score(target_valid_ohe, predicted_valid)\n",
    "    if score > best_score:\n",
    "        best_score = score \n",
    "        best_est = est \n",
    "\n",
    "print(\"f1 score of the best model on the validation set (n_estimators = {}): {}\".format(best_est, best_score))\n"
   ]
  },
  {
   "cell_type": "code",
   "execution_count": 84,
   "id": "d8ff916c",
   "metadata": {},
   "outputs": [
    {
     "name": "stdout",
     "output_type": "stream",
     "text": [
      "auc-roc: 0.8333382676757397\n"
     ]
    }
   ],
   "source": [
    "probabilities_test = model.predict_proba(features_test_ohe)\n",
    "probabilities_one_test = probabilities_test[:, 1]\n",
    "\n",
    "auc_roc = roc_auc_score(target_test_ohe, probabilities_one_test)\n",
    "\n",
    "print(f'auc-roc: {auc_roc}')"
   ]
  },
  {
   "cell_type": "code",
   "execution_count": 85,
   "id": "b3a65b6d",
   "metadata": {},
   "outputs": [
    {
     "name": "stdout",
     "output_type": "stream",
     "text": [
      "max_depth = 1 : 0.4973544973544974\n",
      "max_depth = 2 : 0.5165289256198347\n",
      "max_depth = 3 : 0.5165289256198347\n",
      "max_depth = 4 : 0.54341164453524\n",
      "max_depth = 5 : 0.532520325203252\n",
      "max_depth = 6 : 0.551440329218107\n",
      "max_depth = 7 : 0.5338725985844287\n",
      "max_depth = 8 : 0.5582959641255605\n",
      "max_depth = 9 : 0.5413363533408833\n",
      "max_depth = 10 : 0.5348314606741573\n",
      "max_depth = 11 : 0.5379975874547647\n",
      "max_depth = 12 : 0.5049261083743843\n",
      "max_depth = 13 : 0.5087281795511223\n"
     ]
    }
   ],
   "source": [
    "for depth in range(1,14):\n",
    "    model = DecisionTreeClassifier(random_state=12345, max_depth=depth)\n",
    "    model.fit(features_upsampled,target_upsampled)\n",
    "    predicted_valid = model.predict(features_valid_ohe) \n",
    "    result = f1_score(target_valid_ohe, predicted_valid)\n",
    "    print(f'max_depth = {depth} : {result}')"
   ]
  },
  {
   "cell_type": "markdown",
   "id": "00ce087e",
   "metadata": {},
   "source": [
    "not that much closer, 0.558 f1 score\n",
    "\n",
    "## Downsampling\n",
    "\n",
    "let's try downsampling"
   ]
  },
  {
   "cell_type": "code",
   "execution_count": 86,
   "id": "17634bf4",
   "metadata": {},
   "outputs": [
    {
     "data": {
      "text/plain": [
       "0    1112\n",
       "1    1112\n",
       "Name: Exited, dtype: int64"
      ]
     },
     "execution_count": 86,
     "metadata": {},
     "output_type": "execute_result"
    }
   ],
   "source": [
    "def downsample(features, target, fraction):\n",
    "    features_zeros = features[target == 0]\n",
    "    features_ones = features[target == 1]\n",
    "    target_zeros = target[target == 0]\n",
    "    target_ones = target[target == 1]\n",
    "\n",
    "    features_downsampled = pd.concat(\n",
    "        [features_zeros.sample(frac=fraction, random_state=12345)]\n",
    "        + [features_ones]\n",
    "    )\n",
    "    target_downsampled = pd.concat(\n",
    "        [target_zeros.sample(frac=fraction, random_state=12345)]\n",
    "        + [target_ones]\n",
    "    )\n",
    "\n",
    "    features_downsampled, target_downsampled = shuffle(\n",
    "        features_downsampled, target_downsampled, random_state=12345\n",
    "    )\n",
    "\n",
    "    return features_downsampled, target_downsampled\n",
    "\n",
    "\n",
    "features_downsampled, target_downsampled = downsample(\n",
    "    features_train_ohe, target_train_ohe, 0.256\n",
    ")\n",
    "target_downsampled.value_counts()"
   ]
  },
  {
   "cell_type": "code",
   "execution_count": 87,
   "id": "e0763454",
   "metadata": {},
   "outputs": [
    {
     "name": "stdout",
     "output_type": "stream",
     "text": [
      "F1: 0.5080875356803044\n"
     ]
    }
   ],
   "source": [
    "model = LogisticRegression(random_state=12345, solver='liblinear')\n",
    "model.fit(features_downsampled, target_downsampled)\n",
    "predicted_valid = model.predict(features_valid_ohe)\n",
    "\n",
    "print('F1:', f1_score(target_valid_ohe, predicted_valid))"
   ]
  },
  {
   "cell_type": "code",
   "execution_count": 88,
   "id": "feccea18",
   "metadata": {},
   "outputs": [
    {
     "name": "stdout",
     "output_type": "stream",
     "text": [
      "auc-roc: 0.7894713468904392\n"
     ]
    }
   ],
   "source": [
    "probabilities_test = model.predict_proba(features_test_ohe)\n",
    "probabilities_one_test = probabilities_test[:, 1]\n",
    "\n",
    "auc_roc = roc_auc_score(target_test_ohe, probabilities_one_test)\n",
    "\n",
    "print(f'auc-roc: {auc_roc}')"
   ]
  },
  {
   "cell_type": "code",
   "execution_count": 89,
   "id": "dc8ea2c2",
   "metadata": {},
   "outputs": [
    {
     "name": "stdout",
     "output_type": "stream",
     "text": [
      "f1 score of the best model on the validation set (n_estimators = 10): 0.5610561056105611\n"
     ]
    }
   ],
   "source": [
    "best_score = 0\n",
    "best_est = 0\n",
    "for est in range(1, 11):\n",
    "    model = RandomForestClassifier(random_state=54321, n_estimators=est)\n",
    "    model.fit(features_downsampled,target_downsampled)\n",
    "    predicted_valid = model.predict(features_valid_ohe)\n",
    "    score = f1_score(target_valid_ohe, predicted_valid)\n",
    "    if score > best_score:\n",
    "        best_score = score \n",
    "        best_est = est \n",
    "\n",
    "print(\"f1 score of the best model on the validation set (n_estimators = {}): {}\".format(best_est, best_score))"
   ]
  },
  {
   "cell_type": "markdown",
   "id": "1860ef55",
   "metadata": {},
   "source": [
    "so far our best model is RFC with n_est = 10 with and f1_score of 0.56\n",
    "\n",
    "\n",
    "let's check if a DTC model can do better:"
   ]
  },
  {
   "cell_type": "code",
   "execution_count": 71,
   "id": "c61e4948",
   "metadata": {},
   "outputs": [
    {
     "name": "stdout",
     "output_type": "stream",
     "text": [
      "max_depth = 1 : 0.49774774774774777\n",
      "max_depth = 2 : 0.5191675794085433\n",
      "max_depth = 3 : 0.5191675794085433\n",
      "max_depth = 4 : 0.5570971184631804\n",
      "max_depth = 5 : 0.5417057169634488\n",
      "max_depth = 6 : 0.5336134453781514\n",
      "max_depth = 7 : 0.521920668058455\n",
      "max_depth = 8 : 0.5412262156448202\n",
      "max_depth = 9 : 0.5339074273412272\n",
      "max_depth = 10 : 0.5206611570247933\n",
      "max_depth = 11 : 0.5056065239551478\n",
      "max_depth = 12 : 0.49706457925636005\n",
      "max_depth = 13 : 0.49900990099009906\n"
     ]
    }
   ],
   "source": [
    "for depth in range(1,14):\n",
    "    model = DecisionTreeClassifier(random_state=12345, max_depth=depth)\n",
    "    model.fit(features_downsampled,target_downsampled)\n",
    "    predicted_valid = model.predict(features_valid_ohe)\n",
    "    result = f1_score(target_valid_ohe, predicted_valid)\n",
    "    print(f'max_depth = {depth} : {result}')"
   ]
  },
  {
   "cell_type": "code",
   "execution_count": 72,
   "id": "b52973fb",
   "metadata": {},
   "outputs": [
    {
     "name": "stdout",
     "output_type": "stream",
     "text": [
      "auc-roc: 0.8240447421497695\n"
     ]
    }
   ],
   "source": [
    "model = DecisionTreeClassifier(random_state=12345, max_depth=4)\n",
    "model.fit(features_downsampled,target_downsampled)\n",
    "\n",
    "probabilities_test = model.predict_proba(features_test_ohe)\n",
    "probabilities_one_test = probabilities_test[:, 1]\n",
    "\n",
    "auc_roc = roc_auc_score(target_test_ohe, probabilities_one_test)\n",
    "\n",
    "print(f'auc-roc: {auc_roc}')"
   ]
  },
  {
   "cell_type": "markdown",
   "id": "0275a730",
   "metadata": {},
   "source": [
    "nope! going with the RFC model."
   ]
  },
  {
   "cell_type": "markdown",
   "id": "32f525dc",
   "metadata": {},
   "source": [
    "# Final testing"
   ]
  },
  {
   "cell_type": "code",
   "execution_count": 76,
   "id": "f14bf11a",
   "metadata": {},
   "outputs": [
    {
     "name": "stdout",
     "output_type": "stream",
     "text": [
      " f1 score is 0.6043795620437956\n"
     ]
    }
   ],
   "source": [
    "model = RandomForestClassifier(random_state=12345, n_estimators=8)\n",
    "model.fit(features_upsampled,target_upsampled) \n",
    "predicted_test = model.predict(features_test_ohe) \n",
    "score = f1_score(target_test_ohe, predicted_test) \n",
    "print(f' f1 score is {score}')"
   ]
  },
  {
   "cell_type": "markdown",
   "id": "9a55be9e",
   "metadata": {},
   "source": [
    "finally we've achieved the desired result! let's compare the f1 score with auc-roc metric either way."
   ]
  },
  {
   "cell_type": "code",
   "execution_count": 90,
   "id": "6f33b882",
   "metadata": {},
   "outputs": [
    {
     "name": "stdout",
     "output_type": "stream",
     "text": [
      "0.8279555169032067\n"
     ]
    }
   ],
   "source": [
    "probabilities_test = model.predict_proba(features_test_ohe)\n",
    "probabilities_one_test = probabilities_test[:, 1]\n",
    "\n",
    "auc_roc = roc_auc_score(target_test_ohe, probabilities_one_test)\n",
    "\n",
    "print(auc_roc)"
   ]
  },
  {
   "cell_type": "markdown",
   "id": "1c63cdac",
   "metadata": {},
   "source": [
    "the auc-roc is greater than 0.5 which means the model is better than a random model.\n",
    "also note that the auc-roc metric hasn't fluctuated much throughout the project."
   ]
  }
 ],
 "metadata": {
  "ExecuteTimeLog": [
   {
    "duration": 59,
    "start_time": "2022-06-30T13:32:10.548Z"
   },
   {
    "duration": 46,
    "start_time": "2022-06-30T13:32:17.228Z"
   },
   {
    "duration": 1601,
    "start_time": "2022-06-30T13:32:34.476Z"
   },
   {
    "duration": 0,
    "start_time": "2022-06-30T13:32:36.079Z"
   },
   {
    "duration": 0,
    "start_time": "2022-06-30T13:32:36.081Z"
   },
   {
    "duration": 0,
    "start_time": "2022-06-30T13:32:36.082Z"
   },
   {
    "duration": 0,
    "start_time": "2022-06-30T13:32:36.083Z"
   },
   {
    "duration": 0,
    "start_time": "2022-06-30T13:32:36.084Z"
   },
   {
    "duration": 0,
    "start_time": "2022-06-30T13:32:36.085Z"
   },
   {
    "duration": 0,
    "start_time": "2022-06-30T13:32:36.086Z"
   },
   {
    "duration": 0,
    "start_time": "2022-06-30T13:32:36.087Z"
   },
   {
    "duration": 0,
    "start_time": "2022-06-30T13:32:36.089Z"
   },
   {
    "duration": 0,
    "start_time": "2022-06-30T13:32:36.090Z"
   },
   {
    "duration": 0,
    "start_time": "2022-06-30T13:32:36.091Z"
   },
   {
    "duration": 11,
    "start_time": "2022-06-30T13:32:41.676Z"
   },
   {
    "duration": 5,
    "start_time": "2022-06-30T13:33:01.327Z"
   },
   {
    "duration": 4,
    "start_time": "2022-06-30T13:33:15.528Z"
   },
   {
    "duration": 100,
    "start_time": "2022-06-30T13:33:15.540Z"
   },
   {
    "duration": 13,
    "start_time": "2022-06-30T13:33:15.642Z"
   },
   {
    "duration": 73,
    "start_time": "2022-06-30T13:33:15.657Z"
   },
   {
    "duration": 5,
    "start_time": "2022-06-30T13:33:15.732Z"
   },
   {
    "duration": 14,
    "start_time": "2022-06-30T13:33:15.738Z"
   },
   {
    "duration": 33,
    "start_time": "2022-06-30T13:33:15.754Z"
   },
   {
    "duration": 2,
    "start_time": "2022-06-30T13:33:20.956Z"
   },
   {
    "duration": 19,
    "start_time": "2022-06-30T13:33:22.239Z"
   },
   {
    "duration": 4,
    "start_time": "2022-06-30T13:33:24.094Z"
   },
   {
    "duration": 10,
    "start_time": "2022-06-30T13:33:25.147Z"
   },
   {
    "duration": 10,
    "start_time": "2022-06-30T13:33:28.100Z"
   },
   {
    "duration": 19,
    "start_time": "2022-06-30T13:33:32.975Z"
   },
   {
    "duration": 42,
    "start_time": "2022-06-30T13:34:09.602Z"
   },
   {
    "duration": 4,
    "start_time": "2022-06-30T13:37:40.250Z"
   },
   {
    "duration": 107,
    "start_time": "2022-06-30T13:38:02.670Z"
   },
   {
    "duration": 41,
    "start_time": "2022-06-30T13:38:47.404Z"
   },
   {
    "duration": 33,
    "start_time": "2022-06-30T13:41:45.853Z"
   },
   {
    "duration": 268,
    "start_time": "2022-06-30T13:42:00.843Z"
   },
   {
    "duration": 10,
    "start_time": "2022-06-30T13:42:07.812Z"
   },
   {
    "duration": 16,
    "start_time": "2022-06-30T13:42:46.822Z"
   },
   {
    "duration": 29,
    "start_time": "2022-06-30T13:42:59.300Z"
   },
   {
    "duration": 49,
    "start_time": "2022-06-30T13:43:17.194Z"
   },
   {
    "duration": 25,
    "start_time": "2022-06-30T13:43:22.072Z"
   },
   {
    "duration": 16,
    "start_time": "2022-06-30T13:44:07.410Z"
   },
   {
    "duration": 459,
    "start_time": "2022-06-30T13:44:22.978Z"
   },
   {
    "duration": 71,
    "start_time": "2022-06-30T13:44:25.922Z"
   },
   {
    "duration": 272,
    "start_time": "2022-06-30T13:44:57.564Z"
   },
   {
    "duration": 583,
    "start_time": "2022-06-30T13:44:59.644Z"
   },
   {
    "duration": 258,
    "start_time": "2022-06-30T13:45:41.607Z"
   },
   {
    "duration": 31,
    "start_time": "2022-06-30T13:46:30.223Z"
   },
   {
    "duration": 468,
    "start_time": "2022-06-30T13:46:56.137Z"
   },
   {
    "duration": 454,
    "start_time": "2022-06-30T13:47:32.426Z"
   },
   {
    "duration": 79,
    "start_time": "2022-06-30T13:47:51.410Z"
   },
   {
    "duration": 88,
    "start_time": "2022-06-30T13:48:08.068Z"
   },
   {
    "duration": 148,
    "start_time": "2022-06-30T13:48:21.680Z"
   },
   {
    "duration": 12,
    "start_time": "2022-06-30T13:50:26.745Z"
   },
   {
    "duration": 39,
    "start_time": "2022-06-30T13:50:29.254Z"
   },
   {
    "duration": 124,
    "start_time": "2022-06-30T13:50:31.113Z"
   },
   {
    "duration": 34,
    "start_time": "2022-06-30T13:50:42.503Z"
   },
   {
    "duration": 55,
    "start_time": "2022-06-30T13:50:46.284Z"
   },
   {
    "duration": 16,
    "start_time": "2022-06-30T13:51:24.832Z"
   },
   {
    "duration": 18,
    "start_time": "2022-06-30T13:51:35.616Z"
   },
   {
    "duration": 15,
    "start_time": "2022-06-30T13:51:46.066Z"
   },
   {
    "duration": 170,
    "start_time": "2022-06-30T13:51:54.264Z"
   },
   {
    "duration": 562,
    "start_time": "2022-06-30T13:52:45.268Z"
   },
   {
    "duration": 13,
    "start_time": "2022-06-30T13:52:55.687Z"
   },
   {
    "duration": 309,
    "start_time": "2022-06-30T13:53:01.615Z"
   },
   {
    "duration": 14,
    "start_time": "2022-06-30T14:07:11.747Z"
   },
   {
    "duration": 18,
    "start_time": "2022-06-30T14:07:16.349Z"
   },
   {
    "duration": 14,
    "start_time": "2022-06-30T14:07:20.908Z"
   },
   {
    "duration": 13,
    "start_time": "2022-06-30T14:07:24.169Z"
   },
   {
    "duration": 14,
    "start_time": "2022-06-30T14:07:32.308Z"
   },
   {
    "duration": 14,
    "start_time": "2022-06-30T14:07:40.288Z"
   },
   {
    "duration": 14,
    "start_time": "2022-06-30T14:07:45.140Z"
   },
   {
    "duration": 15,
    "start_time": "2022-06-30T14:07:49.425Z"
   },
   {
    "duration": 21,
    "start_time": "2022-06-30T14:07:54.830Z"
   },
   {
    "duration": 14,
    "start_time": "2022-06-30T14:08:00.205Z"
   },
   {
    "duration": 14,
    "start_time": "2022-06-30T14:08:05.427Z"
   },
   {
    "duration": 14,
    "start_time": "2022-06-30T14:08:11.657Z"
   },
   {
    "duration": 15,
    "start_time": "2022-06-30T14:08:17.536Z"
   },
   {
    "duration": 60,
    "start_time": "2022-06-30T14:08:55.982Z"
   },
   {
    "duration": 15,
    "start_time": "2022-06-30T14:09:00.960Z"
   },
   {
    "duration": 275,
    "start_time": "2022-06-30T14:09:04.271Z"
   },
   {
    "duration": 340,
    "start_time": "2022-06-30T14:09:17.356Z"
   },
   {
    "duration": 136,
    "start_time": "2022-06-30T14:09:37.998Z"
   },
   {
    "duration": 14,
    "start_time": "2022-06-30T14:10:28.622Z"
   },
   {
    "duration": 38,
    "start_time": "2022-06-30T14:12:27.348Z"
   },
   {
    "duration": 25,
    "start_time": "2022-06-30T14:14:47.956Z"
   },
   {
    "duration": 34,
    "start_time": "2022-06-30T14:15:18.025Z"
   },
   {
    "duration": 85,
    "start_time": "2022-06-30T14:15:27.142Z"
   },
   {
    "duration": 13,
    "start_time": "2022-06-30T14:15:37.963Z"
   },
   {
    "duration": 26,
    "start_time": "2022-06-30T14:16:27.766Z"
   },
   {
    "duration": 28,
    "start_time": "2022-06-30T14:16:33.595Z"
   },
   {
    "duration": 14,
    "start_time": "2022-06-30T14:17:52.334Z"
   },
   {
    "duration": 16,
    "start_time": "2022-06-30T14:17:55.984Z"
   },
   {
    "duration": 36,
    "start_time": "2022-06-30T14:17:57.797Z"
   },
   {
    "duration": 548,
    "start_time": "2022-06-30T14:18:00.509Z"
   },
   {
    "duration": 14,
    "start_time": "2022-06-30T14:18:23.493Z"
   },
   {
    "duration": 305,
    "start_time": "2022-06-30T14:18:25.435Z"
   },
   {
    "duration": 15,
    "start_time": "2022-06-30T14:18:28.068Z"
   },
   {
    "duration": 59,
    "start_time": "2022-06-30T14:18:32.668Z"
   },
   {
    "duration": 11,
    "start_time": "2022-06-30T14:18:34.363Z"
   },
   {
    "duration": 235,
    "start_time": "2022-06-30T14:18:35.922Z"
   },
   {
    "duration": 13,
    "start_time": "2022-06-30T14:19:29.914Z"
   }
  ],
  "kernelspec": {
   "display_name": "Python 3 (ipykernel)",
   "language": "python",
   "name": "python3"
  },
  "language_info": {
   "codemirror_mode": {
    "name": "ipython",
    "version": 3
   },
   "file_extension": ".py",
   "mimetype": "text/x-python",
   "name": "python",
   "nbconvert_exporter": "python",
   "pygments_lexer": "ipython3",
   "version": "3.8.8"
  },
  "toc": {
   "base_numbering": 1,
   "nav_menu": {},
   "number_sections": true,
   "sideBar": true,
   "skip_h1_title": false,
   "title_cell": "Table of Contents",
   "title_sidebar": "Contents",
   "toc_cell": false,
   "toc_position": {},
   "toc_section_display": true,
   "toc_window_display": true
  }
 },
 "nbformat": 4,
 "nbformat_minor": 5
}
